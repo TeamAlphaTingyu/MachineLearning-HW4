{
 "cells": [
  {
   "cell_type": "code",
   "execution_count": 1,
   "metadata": {},
   "outputs": [],
   "source": [
    "import gym\n",
    "from algorithms.rl import RL\n",
    "from examples.test_env import TestEnv\n",
    "from algorithms.planner import Planner\n",
    "from examples.plots import Plots\n",
    "from examples.blackjack import Blackjack\n",
    "import pandas as pd\n",
    "import seaborn as sns\n",
    "import numpy as np\n",
    "import os\n",
    "import pickle\n",
    "\n",
    "import math\n",
    "\n",
    "from examples.test_env import TestEnv\n",
    "import matplotlib.pyplot as plt\n",
    "from matplotlib.patches import Arrow, Rectangle\n",
    "import warnings\n",
    "from matplotlib.colors import LinearSegmentedColormap"
   ]
  },
  {
   "cell_type": "code",
   "execution_count": 2,
   "metadata": {},
   "outputs": [],
   "source": [
    "class Plotst:\n",
    "    @staticmethod\n",
    "    def grid_world_policy_plot(data, label):\n",
    "        if not math.modf(math.sqrt(len(data)))[0] == 0.0:\n",
    "            warnings.warn(\"Grid map expected.  Check data length\")\n",
    "        else:\n",
    "            data = np.around(np.array(data).reshape((5, 5)), 2)\n",
    "            df = pd.DataFrame(data=data)\n",
    "            my_colors = ((0.0, 0.0, 0.0, 1.0), (0.8, 0.0, 0.0, 1.0), (0.0, 0.8, 0.0, 1.0), (0.0, 0.0, 0.8, 1.0))\n",
    "            cmap = LinearSegmentedColormap.from_list('Custom', my_colors, len(my_colors))\n",
    "            ax = sns.heatmap(df, cmap=cmap, linewidths=1.0)\n",
    "            colorbar = ax.collections[0].colorbar\n",
    "            colorbar.set_ticks([.4, 1.1, 1.9, 2.6])\n",
    "            colorbar.set_ticklabels(['Left', 'Down', 'Right', 'Up'])\n",
    "            plt.title(label)\n",
    "            plt.show()\n",
    "\n",
    "    @staticmethod\n",
    "    def grid_values_heat_map(data, label):\n",
    "        if not math.modf(math.sqrt(len(data)))[0] == 0.0:\n",
    "            warnings.warn(\"Grid map expected.  Check data length\")\n",
    "        else:\n",
    "            data = np.around(np.array(data).reshape((8, 8)), 2)\n",
    "            df = pd.DataFrame(data=data)\n",
    "            sns.heatmap(df, annot=True).set_title(label)\n",
    "            plt.show()\n",
    "\n",
    "    @staticmethod\n",
    "    def v_iters_plot(data, label):\n",
    "        df = pd.DataFrame(data=data)\n",
    "        df.columns = [label]\n",
    "        sns.set_theme(style=\"whitegrid\")\n",
    "        title = label + \" v Iterations\"\n",
    "        sns.lineplot(x=df.index, y=label, data=df).set_title(title)\n",
    "        plt.show()"
   ]
  },
  {
   "cell_type": "code",
   "execution_count": 3,
   "metadata": {},
   "outputs": [],
   "source": [
    "frozen_lake = gym.make('FrozenLake8x8-v1', render_mode=None)"
   ]
  },
  {
   "cell_type": "code",
   "execution_count": 4,
   "metadata": {},
   "outputs": [],
   "source": [
    "lake_map = [\n",
    "    \"SFFFFFFF\",\n",
    "    \"FFFFFFFF\",\n",
    "    \"FFFHFFFF\",\n",
    "    \"FFFFFHFF\",\n",
    "    \"FFFHFFFF\",\n",
    "    \"FHHFFFHF\",\n",
    "    \"FHFFHFHF\",\n",
    "    \"FFFHFFFG\",\n",
    "]\n"
   ]
  },
  {
   "cell_type": "code",
   "execution_count": 5,
   "metadata": {},
   "outputs": [],
   "source": [
    "taxi = gym.make('Taxi-v3', render_mode=None)"
   ]
  },
  {
   "cell_type": "code",
   "execution_count": null,
   "metadata": {},
   "outputs": [],
   "source": [
    "gamma_list = [0.4,0.5,0.6,0.7,0.8,0.9,0.99]\n",
    "action_list = []\n",
    "V_list = []\n",
    "V_change_list = []\n",
    "for sample_gamma in gamma_list:\n",
    "    V, V_track, pi = Planner(frozen_lake.env.P).value_iteration(gamma=sample_gamma,n_iters=10000, theta=1e-3)\n",
    "    action = []\n",
    "    for i in range(len(V)):\n",
    "        action.append(pi(i))\n",
    "    V_track_new = []\n",
    "    for iteration in V_track:\n",
    "        if np.sum(iteration) != 0:\n",
    "            V_track_new.append(iteration)\n",
    "\n",
    "    V_track_max = [np.max(abs(V_track[min(i+1,len(V_track)-1)]-V_track[i])) for i,x in enumerate(V_track_new)]\n",
    "    action_list.append(action)\n",
    "    V_list.append(V)\n",
    "    V_change_list.append(V_track_max)"
   ]
  },
  {
   "cell_type": "code",
   "execution_count": null,
   "metadata": {},
   "outputs": [],
   "source": [
    "action_list1 = []\n",
    "V_list1 = []\n",
    "V_change_list1 = []\n",
    "for sample_gamma in gamma_list:\n",
    "    V, V_track, pi = Planner(frozen_lake.env.P).value_iteration(gamma=sample_gamma,n_iters=10000, theta=1e-6)\n",
    "    action = []\n",
    "    for i in range(len(V)):\n",
    "        action.append(pi(i))\n",
    "    V_track_new = []\n",
    "    for iteration in V_track:\n",
    "        if np.sum(iteration) != 0:\n",
    "            V_track_new.append(iteration)\n",
    "\n",
    "    V_track_max = [np.max(abs(V_track[min(i+1,len(V_track)-1)]-V_track[i])) for i,x in enumerate(V_track_new)]\n",
    "    action_list1.append(action)\n",
    "    V_list1.append(V)\n",
    "    V_change_list1.append(V_track_max)"
   ]
  },
  {
   "cell_type": "code",
   "execution_count": null,
   "metadata": {},
   "outputs": [],
   "source": [
    "arrow_mapping = {0: (-1, 0), 1: (0, -1), 2: (1, 0), 3: (0, 1)}\n",
    "policy = action_list[0]\n",
    "\n",
    "# Set up the plot\n",
    "fig, ax = plt.subplots(figsize=(8, 8))\n",
    "ax.set_xlim(0, 8)\n",
    "ax.set_ylim(0, 8)\n",
    "# Draw grid lines\n",
    "for i in range(9):\n",
    "    ax.axhline(i, lw=2, color='k', zorder=5)\n",
    "    ax.axvline(i, lw=2, color='k', zorder=5)\n",
    "\n",
    "for i in range(8):\n",
    "    for j in range(8):\n",
    "        cell = lake_map[i][j]\n",
    "        if cell == \"S\":\n",
    "            color = \"lime\"  # Start\n",
    "        elif cell == \"G\":\n",
    "            color = \"gold\"  # Goal\n",
    "        elif cell == \"H\":\n",
    "            color = \"crimson\"  # Hole\n",
    "        else:\n",
    "            color = None\n",
    "\n",
    "        if color:\n",
    "            ax.add_patch(Rectangle((j, i), 1, 1, color=color, alpha=0.5, zorder=0))\n",
    "\n",
    "# Plot the policy arrows\n",
    "for i in range(8):\n",
    "    for j in range(8):\n",
    "        action = policy[i * 8 + j]\n",
    "        dx, dy = arrow_mapping[action]\n",
    "        ax.add_patch(Arrow(j + 0.5 - 0.5 * dx, i + 0.5 - 0.5 * dy, dx, dy, color='r', width=0.3, zorder=10))\n",
    "\n",
    "# Display the plot\n",
    "plt.gca().invert_yaxis()\n",
    "plt.title('optimal policy: Gamma=0.4 theta=e-3')\n",
    "plt.show()"
   ]
  },
  {
   "cell_type": "code",
   "execution_count": null,
   "metadata": {},
   "outputs": [],
   "source": [
    "arrow_mapping = {0: (-1, 0), 1: (0, -1), 2: (1, 0), 3: (0, 1)}\n",
    "policy = action_list[-1]\n",
    "\n",
    "# Set up the plot\n",
    "fig, ax = plt.subplots(figsize=(8, 8))\n",
    "ax.set_xlim(0, 8)\n",
    "ax.set_ylim(0, 8)\n",
    "# Draw grid lines\n",
    "for i in range(9):\n",
    "    ax.axhline(i, lw=2, color='k', zorder=5)\n",
    "    ax.axvline(i, lw=2, color='k', zorder=5)\n",
    "\n",
    "for i in range(8):\n",
    "    for j in range(8):\n",
    "        cell = lake_map[i][j]\n",
    "        if cell == \"S\":\n",
    "            color = \"lime\"  # Start\n",
    "        elif cell == \"G\":\n",
    "            color = \"gold\"  # Goal\n",
    "        elif cell == \"H\":\n",
    "            color = \"crimson\"  # Hole\n",
    "        else:\n",
    "            color = None\n",
    "\n",
    "        if color:\n",
    "            ax.add_patch(Rectangle((j, i), 1, 1, color=color, alpha=0.5, zorder=0))\n",
    "\n",
    "# Plot the policy arrows\n",
    "for i in range(8):\n",
    "    for j in range(8):\n",
    "        action = policy[i * 8 + j]\n",
    "        dx, dy = arrow_mapping[action]\n",
    "        ax.add_patch(Arrow(j + 0.5 - 0.5 * dx, i + 0.5 - 0.5 * dy, dx, dy, color='r', width=0.3, zorder=10))\n",
    "\n",
    "# Display the plot\n",
    "plt.gca().invert_yaxis()\n",
    "plt.title('optimal policy: Gamma=0.99 theta=e-3')\n",
    "plt.show()"
   ]
  },
  {
   "cell_type": "code",
   "execution_count": null,
   "metadata": {},
   "outputs": [],
   "source": [
    "arrow_mapping = {0: (-1, 0), 1: (0, -1), 2: (1, 0), 3: (0, 1)}\n",
    "policy = action_list1[-1]\n",
    "\n",
    "# Set up the plot\n",
    "fig, ax = plt.subplots(figsize=(8, 8))\n",
    "ax.set_xlim(0, 8)\n",
    "ax.set_ylim(0, 8)\n",
    "# Draw grid lines\n",
    "for i in range(9):\n",
    "    ax.axhline(i, lw=2, color='k', zorder=5)\n",
    "    ax.axvline(i, lw=2, color='k', zorder=5)\n",
    "\n",
    "for i in range(8):\n",
    "    for j in range(8):\n",
    "        cell = lake_map[i][j]\n",
    "        if cell == \"S\":\n",
    "            color = \"lime\"  # Start\n",
    "        elif cell == \"G\":\n",
    "            color = \"gold\"  # Goal\n",
    "        elif cell == \"H\":\n",
    "            color = \"crimson\"  # Hole\n",
    "        else:\n",
    "            color = None\n",
    "\n",
    "        if color:\n",
    "            ax.add_patch(Rectangle((j, i), 1, 1, color=color, alpha=0.5, zorder=0))\n",
    "\n",
    "# Plot the policy arrows\n",
    "for i in range(8):\n",
    "    for j in range(8):\n",
    "        action = policy[i * 8 + j]\n",
    "        dx, dy = arrow_mapping[action]\n",
    "        ax.add_patch(Arrow(j + 0.5 - 0.5 * dx, i + 0.5 - 0.5 * dy, dx, dy, color='r', width=0.3, zorder=10))\n",
    "\n",
    "# Display the plot\n",
    "plt.gca().invert_yaxis()\n",
    "plt.title('optimal policy: Gamma=0.99 theta=e-6')\n",
    "plt.show()"
   ]
  },
  {
   "cell_type": "code",
   "execution_count": null,
   "metadata": {},
   "outputs": [],
   "source": [
    "n_iteration_list = []\n",
    "for i in range(len(V_change_list)):\n",
    "    n_iteration_list.append(len(V_change_list[i]))\n",
    "\n",
    "n_iteration_list1 = []\n",
    "for i in range(len(V_change_list1)):\n",
    "    n_iteration_list1.append(len(V_change_list1[i]))\n",
    "    \n",
    "plt.figure(figsize=(10, 6)) \n",
    "plt.plot(gamma_list, n_iteration_list, label = \"theta = e-3\")\n",
    "plt.plot(gamma_list, n_iteration_list1, label = \"theta = e-6\")\n",
    "plt.legend(loc=\"upper left\")    \n",
    "plt.title('number of iterations until convergence with change in Gamma')\n",
    "plt.xlabel('Gamma')\n",
    "plt.ylabel('number of iterations')\n",
    "plt.show()"
   ]
  },
  {
   "cell_type": "code",
   "execution_count": null,
   "metadata": {},
   "outputs": [],
   "source": [
    "avg_v_list = []\n",
    "for i in range(len(V_list)):\n",
    "    avg_v_list.append(np.mean(V_list[i]))\n",
    "\n",
    "avg_v_list1 = []\n",
    "for i in range(len(V_list1)):\n",
    "    avg_v_list1.append(np.mean(V_list1[i]))\n",
    "    \n",
    "plt.figure(figsize=(10, 6)) \n",
    "plt.plot(gamma_list, avg_v_list, label = \"theta = e-3\")\n",
    "plt.plot(gamma_list, avg_v_list1, label = \"theta = e-6\")\n",
    "plt.legend(loc=\"upper left\")    \n",
    "plt.title('average value after convergence with change in Gamma')\n",
    "plt.xlabel('Gamma')\n",
    "plt.ylabel('average value after convergence')\n",
    "plt.show()"
   ]
  },
  {
   "cell_type": "code",
   "execution_count": null,
   "metadata": {},
   "outputs": [],
   "source": [
    "np.array(n_iteration_list1)/np.array(n_iteration_list)"
   ]
  },
  {
   "cell_type": "code",
   "execution_count": null,
   "metadata": {},
   "outputs": [],
   "source": [
    "gamma_list = [0.4,0.5,0.6,0.7,0.8,0.9,0.99]\n",
    "action_list1 = []\n",
    "V_list1 = []\n",
    "V_change_list1 = []\n",
    "for sample_gamma in gamma_list:\n",
    "    V, V_track, pi = Planner(frozen_lake.env.P).policy_iteration(gamma=sample_gamma,n_iters=10000, theta=1e-3)\n",
    "    action = []\n",
    "    for i in range(len(V)):\n",
    "        action.append(pi(i))\n",
    "    V_track_new = []\n",
    "    for iteration in V_track:\n",
    "        if np.sum(iteration) != 0:\n",
    "            V_track_new.append(iteration)\n",
    "\n",
    "    V_track_max = [np.max(abs(V_track[min(i+1,len(V_track)-1)]-V_track[i])) for i,x in enumerate(V_track_new)]\n",
    "    action_list1.append(action)\n",
    "    V_list1.append(V)\n",
    "    V_change_list1.append(V_track_max)"
   ]
  },
  {
   "cell_type": "code",
   "execution_count": null,
   "metadata": {},
   "outputs": [],
   "source": [
    "n_iteration_list = []\n",
    "for i in range(len(V_change_list)):\n",
    "    n_iteration_list.append(len(V_change_list[i]))\n",
    "\n",
    "n_iteration_list1 = []\n",
    "for i in range(len(V_change_list1)):\n",
    "    n_iteration_list1.append(len(V_change_list1[i]))\n",
    "    \n",
    "plt.figure(figsize=(10, 6)) \n",
    "plt.plot(gamma_list, n_iteration_list, label = \"value iteration\")\n",
    "plt.plot(gamma_list, n_iteration_list1, label = \"policy iteration\")\n",
    "plt.legend(loc=\"upper left\")    \n",
    "plt.title('number of iterations until convergence with change in Gamma')\n",
    "plt.xlabel('Gamma')\n",
    "plt.ylabel('number of iterations')\n",
    "plt.show()"
   ]
  },
  {
   "cell_type": "code",
   "execution_count": null,
   "metadata": {},
   "outputs": [],
   "source": [
    "avg_v_list = []\n",
    "for i in range(len(V_list)):\n",
    "    avg_v_list.append(np.mean(V_list[i]))\n",
    "\n",
    "avg_v_list1 = []\n",
    "for i in range(len(V_list1)):\n",
    "    avg_v_list1.append(np.mean(V_list1[i]))\n",
    "    \n",
    "plt.figure(figsize=(10, 6)) \n",
    "plt.plot(gamma_list, avg_v_list, label = \"value iteration\")\n",
    "plt.plot(gamma_list, avg_v_list1, label = \"policy iteration\")\n",
    "plt.legend(loc=\"upper left\")    \n",
    "plt.title('average value after convergence with change in Gamma')\n",
    "plt.xlabel('Gamma')\n",
    "plt.ylabel('average value after convergence')\n",
    "plt.show()"
   ]
  },
  {
   "cell_type": "code",
   "execution_count": null,
   "metadata": {},
   "outputs": [],
   "source": [
    "arrow_mapping = {0: (-1, 0), 1: (0, -1), 2: (1, 0), 3: (0, 1)}\n",
    "policy = action_list[-1]\n",
    "\n",
    "# Set up the plot\n",
    "fig, ax = plt.subplots(figsize=(8, 8))\n",
    "ax.set_xlim(0, 8)\n",
    "ax.set_ylim(0, 8)\n",
    "# Draw grid lines\n",
    "for i in range(9):\n",
    "    ax.axhline(i, lw=2, color='k', zorder=5)\n",
    "    ax.axvline(i, lw=2, color='k', zorder=5)\n",
    "\n",
    "for i in range(8):\n",
    "    for j in range(8):\n",
    "        cell = lake_map[i][j]\n",
    "        if cell == \"S\":\n",
    "            color = \"lime\"  # Start\n",
    "        elif cell == \"G\":\n",
    "            color = \"gold\"  # Goal\n",
    "        elif cell == \"H\":\n",
    "            color = \"crimson\"  # Hole\n",
    "        else:\n",
    "            color = None\n",
    "\n",
    "        if color:\n",
    "            ax.add_patch(Rectangle((j, i), 1, 1, color=color, alpha=0.5, zorder=0))\n",
    "\n",
    "# Plot the policy arrows\n",
    "for i in range(8):\n",
    "    for j in range(8):\n",
    "        action = policy[i * 8 + j]\n",
    "        dx, dy = arrow_mapping[action]\n",
    "        ax.add_patch(Arrow(j + 0.5 - 0.5 * dx, i + 0.5 - 0.5 * dy, dx, dy, color='r', width=0.3, zorder=10))\n",
    "\n",
    "# Display the plot\n",
    "plt.gca().invert_yaxis()\n",
    "plt.title('optimal policy: Gamma=0.99 theta=e-3')\n",
    "plt.show()"
   ]
  },
  {
   "cell_type": "code",
   "execution_count": 6,
   "metadata": {},
   "outputs": [
    {
     "name": "stderr",
     "output_type": "stream",
     "text": [
      "  0%|                                                                                        | 0/10000 [00:00<?, ?it/s]"
     ]
    },
    {
     "name": "stdout",
     "output_type": "stream",
     "text": [
      "runtime = 17.94 seconds\n"
     ]
    },
    {
     "name": "stderr",
     "output_type": "stream",
     "text": [
      "  0%|                                                                                        | 0/10000 [00:00<?, ?it/s]"
     ]
    },
    {
     "name": "stdout",
     "output_type": "stream",
     "text": [
      "runtime = 17.77 seconds\n"
     ]
    },
    {
     "name": "stderr",
     "output_type": "stream",
     "text": [
      "  0%|                                                                                        | 0/10000 [00:00<?, ?it/s]"
     ]
    },
    {
     "name": "stdout",
     "output_type": "stream",
     "text": [
      "runtime = 16.63 seconds\n"
     ]
    },
    {
     "name": "stderr",
     "output_type": "stream",
     "text": [
      "  0%|                                                                                        | 0/10000 [00:00<?, ?it/s]"
     ]
    },
    {
     "name": "stdout",
     "output_type": "stream",
     "text": [
      "runtime = 16.44 seconds\n"
     ]
    },
    {
     "name": "stderr",
     "output_type": "stream",
     "text": [
      "  0%|                                                                                        | 0/10000 [00:00<?, ?it/s]"
     ]
    },
    {
     "name": "stdout",
     "output_type": "stream",
     "text": [
      "runtime = 15.88 seconds\n"
     ]
    },
    {
     "name": "stderr",
     "output_type": "stream",
     "text": [
      "  0%|                                                                                        | 0/10000 [00:00<?, ?it/s]"
     ]
    },
    {
     "name": "stdout",
     "output_type": "stream",
     "text": [
      "runtime = 13.58 seconds\n"
     ]
    },
    {
     "name": "stderr",
     "output_type": "stream",
     "text": [
      "                                                                                                                       \r"
     ]
    },
    {
     "name": "stdout",
     "output_type": "stream",
     "text": [
      "runtime = 9.40 seconds\n"
     ]
    }
   ],
   "source": [
    "gamma_list = [0.4,0.5,0.6,0.7,0.8,0.9,0.99]\n",
    "action_list1 = []\n",
    "V_list1 = []\n",
    "V_change_list1 = []\n",
    "for sample_gamma in gamma_list:\n",
    "\n",
    "    Q, Vq, piQ, Q_track, pi_track = RL(frozen_lake.env).q_learning(gamma=sample_gamma,\n",
    "                   init_alpha=0.5,\n",
    "                   min_alpha=0.01,\n",
    "                   alpha_decay_ratio=0.5,\n",
    "                   init_epsilon=1.0,\n",
    "                   min_epsilon=0.1,\n",
    "                   epsilon_decay_ratio=0.9)\n",
    "    action = []\n",
    "    for i in range(len(Vq)):\n",
    "        action.append(piQ(i))\n",
    "    Q_track_new = []\n",
    "    for iteration in Q_track:\n",
    "        if np.sum(iteration) != 0:\n",
    "            Q_track_new.append(iteration)\n",
    "\n",
    "    V_track_max = [np.max(abs(Q_track_new[min(i+1,len(Q_track_new)-1)]-Q_track_new[i])) for i,x in enumerate(Q_track_new)]\n",
    "    action_list1.append(action)\n",
    "    V_list1.append(Vq)\n",
    "    V_change_list1.append(V_track_max)"
   ]
  },
  {
   "cell_type": "code",
   "execution_count": 7,
   "metadata": {},
   "outputs": [
    {
     "data": {
      "image/png": "[encoded data removed]",
      "text/plain": [
       "<Figure size 720x432 with 1 Axes>"
      ]
     },
     "metadata": {
      "needs_background": "light"
     },
     "output_type": "display_data"
    }
   ],
   "source": [
    "\n",
    "avg_v_list1 = []\n",
    "for i in range(len(V_list1)):\n",
    "    avg_v_list1.append(np.mean(V_list1[i]))\n",
    "    \n",
    "plt.figure(figsize=(10, 6)) \n",
    "\n",
    "plt.plot(gamma_list, avg_v_list1)\n",
    "\n",
    "plt.title('average value after convergence with change in Gamma')\n",
    "plt.xlabel('Gamma')\n",
    "plt.ylabel('average value after convergence')\n",
    "plt.show()"
   ]
  },
  {
   "cell_type": "code",
   "execution_count": 9,
   "metadata": {},
   "outputs": [
    {
     "data": {
      "image/png": "[encoded data removed]",
      "text/plain": [
       "<Figure size 576x576 with 1 Axes>"
      ]
     },
     "metadata": {
      "needs_background": "light"
     },
     "output_type": "display_data"
    }
   ],
   "source": [
    "arrow_mapping = {0: (-1, 0), 1: (0, -1), 2: (1, 0), 3: (0, 1)}\n",
    "policy = action_list1[-1]\n",
    "\n",
    "# Set up the plot\n",
    "fig, ax = plt.subplots(figsize=(8, 8))\n",
    "ax.set_xlim(0, 8)\n",
    "ax.set_ylim(0, 8)\n",
    "# Draw grid lines\n",
    "for i in range(9):\n",
    "    ax.axhline(i, lw=2, color='k', zorder=5)\n",
    "    ax.axvline(i, lw=2, color='k', zorder=5)\n",
    "\n",
    "for i in range(8):\n",
    "    for j in range(8):\n",
    "        cell = lake_map[i][j]\n",
    "        if cell == \"S\":\n",
    "            color = \"lime\"  # Start\n",
    "        elif cell == \"G\":\n",
    "            color = \"gold\"  # Goal\n",
    "        elif cell == \"H\":\n",
    "            color = \"crimson\"  # Hole\n",
    "        else:\n",
    "            color = None\n",
    "\n",
    "        if color:\n",
    "            ax.add_patch(Rectangle((j, i), 1, 1, color=color, alpha=0.5, zorder=0))\n",
    "\n",
    "# Plot the policy arrows\n",
    "for i in range(8):\n",
    "    for j in range(8):\n",
    "        action = policy[i * 8 + j]\n",
    "        dx, dy = arrow_mapping[action]\n",
    "        ax.add_patch(Arrow(j + 0.5 - 0.5 * dx, i + 0.5 - 0.5 * dy, dx, dy, color='r', width=0.3, zorder=10))\n",
    "\n",
    "# Display the plot\n",
    "plt.gca().invert_yaxis()\n",
    "plt.title('Q-Learning optimal policy: Gamma=0.99')\n",
    "plt.show()"
   ]
  },
  {
   "cell_type": "code",
   "execution_count": 12,
   "metadata": {},
   "outputs": [
    {
     "name": "stderr",
     "output_type": "stream",
     "text": [
      "  0%|                                                                                        | 0/10000 [00:00<?, ?it/s]"
     ]
    },
    {
     "name": "stdout",
     "output_type": "stream",
     "text": [
      "runtime = 4.79 seconds\n"
     ]
    },
    {
     "name": "stderr",
     "output_type": "stream",
     "text": [
      "  1%|▋                                                                             | 96/10000 [00:00<00:10, 944.89it/s]"
     ]
    },
    {
     "name": "stdout",
     "output_type": "stream",
     "text": [
      "runtime = 4.60 seconds\n"
     ]
    },
    {
     "name": "stderr",
     "output_type": "stream",
     "text": [
      "  0%|                                                                                        | 0/10000 [00:00<?, ?it/s]"
     ]
    },
    {
     "name": "stdout",
     "output_type": "stream",
     "text": [
      "runtime = 4.75 seconds\n"
     ]
    },
    {
     "name": "stderr",
     "output_type": "stream",
     "text": [
      "  0%|                                                                                        | 0/10000 [00:00<?, ?it/s]"
     ]
    },
    {
     "name": "stdout",
     "output_type": "stream",
     "text": [
      "runtime = 4.53 seconds\n"
     ]
    },
    {
     "name": "stderr",
     "output_type": "stream",
     "text": [
      "  0%|                                                                                        | 0/10000 [00:00<?, ?it/s]"
     ]
    },
    {
     "name": "stdout",
     "output_type": "stream",
     "text": [
      "runtime = 4.66 seconds\n"
     ]
    },
    {
     "name": "stderr",
     "output_type": "stream",
     "text": [
      "  0%|                                                                                        | 0/10000 [00:00<?, ?it/s]"
     ]
    },
    {
     "name": "stdout",
     "output_type": "stream",
     "text": [
      "runtime = 9.69 seconds\n"
     ]
    },
    {
     "name": "stderr",
     "output_type": "stream",
     "text": [
      "                                                                                                                       \r"
     ]
    },
    {
     "name": "stdout",
     "output_type": "stream",
     "text": [
      "runtime = 12.89 seconds\n"
     ]
    }
   ],
   "source": [
    "alpha_list = [0.2,0.3,0.4,0.5,0.6,0.7,0.8]\n",
    "action_list1 = []\n",
    "V_list1 = []\n",
    "V_change_list1 = []\n",
    "for sample_alpha in alpha_list:\n",
    "\n",
    "    Q, Vq, piQ, Q_track, pi_track = RL(frozen_lake.env).q_learning(gamma=0.99,\n",
    "                   init_alpha=sample_alpha,\n",
    "                   min_alpha=0.01,\n",
    "                   alpha_decay_ratio=0.5,\n",
    "                   init_epsilon=1.0,\n",
    "                   min_epsilon=0.1,\n",
    "                   epsilon_decay_ratio=0.9)\n",
    "    action = []\n",
    "    for i in range(len(Vq)):\n",
    "        action.append(piQ(i))\n",
    "    Q_track_new = []\n",
    "    for iteration in Q_track:\n",
    "        if np.sum(iteration) != 0:\n",
    "            Q_track_new.append(iteration)\n",
    "\n",
    "    V_track_max = [np.max(abs(Q_track_new[min(i+1,len(Q_track_new)-1)]-Q_track_new[i])) for i,x in enumerate(Q_track_new)]\n",
    "    action_list1.append(action)\n",
    "    V_list1.append(Vq)\n",
    "    V_change_list1.append(V_track_max)"
   ]
  },
  {
   "cell_type": "code",
   "execution_count": 26,
   "metadata": {},
   "outputs": [
    {
     "name": "stderr",
     "output_type": "stream",
     "text": [
      "                                                                                                                       \r"
     ]
    },
    {
     "name": "stdout",
     "output_type": "stream",
     "text": [
      "runtime = 27.58 seconds\n"
     ]
    },
    {
     "name": "stderr",
     "output_type": "stream",
     "text": [
      "                                                                                                                       \r"
     ]
    },
    {
     "name": "stdout",
     "output_type": "stream",
     "text": [
      "runtime = 36.50 seconds\n"
     ]
    },
    {
     "name": "stderr",
     "output_type": "stream",
     "text": [
      "                                                                                                                       \r"
     ]
    },
    {
     "name": "stdout",
     "output_type": "stream",
     "text": [
      "runtime = 34.56 seconds\n"
     ]
    },
    {
     "name": "stderr",
     "output_type": "stream",
     "text": [
      "                                                                                                                       \r"
     ]
    },
    {
     "name": "stdout",
     "output_type": "stream",
     "text": [
      "runtime = 33.19 seconds\n"
     ]
    },
    {
     "name": "stderr",
     "output_type": "stream",
     "text": [
      "                                                                                                                       \r"
     ]
    },
    {
     "name": "stdout",
     "output_type": "stream",
     "text": [
      "runtime = 34.88 seconds\n"
     ]
    },
    {
     "name": "stderr",
     "output_type": "stream",
     "text": [
      "                                                                                                                       \r"
     ]
    },
    {
     "name": "stdout",
     "output_type": "stream",
     "text": [
      "runtime = 35.04 seconds\n"
     ]
    },
    {
     "name": "stderr",
     "output_type": "stream",
     "text": [
      "                                                                                                                       \r"
     ]
    },
    {
     "name": "stdout",
     "output_type": "stream",
     "text": [
      "runtime = 34.33 seconds\n"
     ]
    }
   ],
   "source": [
    "alpha_decay_list = [0.3,0.4,0.5,0.6,0.7,0.8,0.9]\n",
    "action_list1 = []\n",
    "V_list1 = []\n",
    "V_change_list1 = []\n",
    "for sample_alpha_decay in alpha_decay_list:\n",
    "\n",
    "    Q, Vq, piQ, Q_track, pi_track = RL(frozen_lake.env).q_learning(gamma=0.99,\n",
    "                   init_alpha=0.6,\n",
    "                   min_alpha=0.01,\n",
    "                   alpha_decay_ratio=sample_alpha_decay,\n",
    "                   init_epsilon=1.0,\n",
    "                   min_epsilon=0.1,\n",
    "                   epsilon_decay_ratio=0.9,\n",
    "                   n_episodes=30000)\n",
    "    action = []\n",
    "    for i in range(len(Vq)):\n",
    "        action.append(piQ(i))\n",
    "    Q_track_new = []\n",
    "    for iteration in Q_track:\n",
    "        if np.sum(iteration) != 0:\n",
    "            Q_track_new.append(iteration)\n",
    "\n",
    "    V_track_max = [np.max(abs(Q_track_new[min(i+1,len(Q_track_new)-1)]-Q_track_new[i])) for i,x in enumerate(Q_track_new)]\n",
    "    action_list1.append(action)\n",
    "    V_list1.append(Vq)\n",
    "    V_change_list1.append(V_track_max)"
   ]
  },
  {
   "cell_type": "code",
   "execution_count": 28,
   "metadata": {},
   "outputs": [
    {
     "data": {
      "image/png": "[encoded data removed]",
      "text/plain": [
       "<Figure size 720x432 with 1 Axes>"
      ]
     },
     "metadata": {
      "needs_background": "light"
     },
     "output_type": "display_data"
    }
   ],
   "source": [
    "\n",
    "avg_v_list2 = []\n",
    "for i in range(len(V_list1)):\n",
    "    avg_v_list2.append(np.mean(V_list1[i]))\n",
    "    \n",
    "plt.figure(figsize=(10, 6)) \n",
    "\n",
    "plt.plot(alpha_decay_list, avg_v_list1, label = \"10000 episodes\")\n",
    "plt.plot(alpha_decay_list, avg_v_list2, label = \"30000 episodes\")\n",
    "plt.legend(loc=\"upper left\")   \n",
    "plt.title('average value after convergence with change in Alpha Decay')\n",
    "plt.xlabel('Alpha Decay Factor')\n",
    "plt.ylabel('average value after convergence')\n",
    "plt.show()"
   ]
  },
  {
   "cell_type": "code",
   "execution_count": null,
   "metadata": {},
   "outputs": [],
   "source": []
  },
  {
   "cell_type": "code",
   "execution_count": null,
   "metadata": {},
   "outputs": [],
   "source": []
  },
  {
   "cell_type": "code",
   "execution_count": null,
   "metadata": {},
   "outputs": [],
   "source": []
  },
  {
   "cell_type": "code",
   "execution_count": null,
   "metadata": {},
   "outputs": [],
   "source": []
  },
  {
   "cell_type": "code",
   "execution_count": null,
   "metadata": {},
   "outputs": [],
   "source": []
  },
  {
   "cell_type": "code",
   "execution_count": null,
   "metadata": {},
   "outputs": [],
   "source": []
  },
  {
   "cell_type": "code",
   "execution_count": null,
   "metadata": {},
   "outputs": [],
   "source": []
  },
  {
   "cell_type": "code",
   "execution_count": null,
   "metadata": {},
   "outputs": [],
   "source": []
  },
  {
   "cell_type": "code",
   "execution_count": null,
   "metadata": {},
   "outputs": [],
   "source": []
  },
  {
   "cell_type": "code",
   "execution_count": null,
   "metadata": {},
   "outputs": [],
   "source": []
  },
  {
   "cell_type": "code",
   "execution_count": null,
   "metadata": {},
   "outputs": [],
   "source": []
  },
  {
   "cell_type": "code",
   "execution_count": null,
   "metadata": {},
   "outputs": [],
   "source": []
  },
  {
   "cell_type": "code",
   "execution_count": null,
   "metadata": {},
   "outputs": [],
   "source": []
  },
  {
   "cell_type": "code",
   "execution_count": null,
   "metadata": {},
   "outputs": [],
   "source": [
    "Vt, Vt_track, pit = Planner(taxi.P).value_iteration(n_iters=10000)"
   ]
  },
  {
   "cell_type": "code",
   "execution_count": null,
   "metadata": {},
   "outputs": [],
   "source": [
    "Vt2, Vt_track2, pit2 = Planner(taxi.P).policy_iteration(gamma=0.9,theta=1e-3)"
   ]
  },
  {
   "cell_type": "code",
   "execution_count": null,
   "metadata": {},
   "outputs": [],
   "source": [
    "np.max(Q_track[0]-Q_track[1])"
   ]
  },
  {
   "cell_type": "code",
   "execution_count": null,
   "metadata": {},
   "outputs": [],
   "source": [
    "Q, V, piQ, Q_track, pi_track = RL(frozen_lake.env).q_learning(gamma=0.95,init_alpha=0.5)"
   ]
  },
  {
   "cell_type": "code",
   "execution_count": null,
   "metadata": {},
   "outputs": [],
   "source": [
    "Qt, Vt, piQt, Q_trackt, pi_trackt = RL(taxi.env).q_learning()"
   ]
  },
  {
   "cell_type": "code",
   "execution_count": null,
   "metadata": {},
   "outputs": [],
   "source": [
    "#plot state values\n",
    "Plotst.grid_values_heat_map(Vt, \"State Values\")"
   ]
  },
  {
   "cell_type": "code",
   "execution_count": null,
   "metadata": {},
   "outputs": [],
   "source": [
    "    V_track_new = []\n",
    "    for iteration in V_track:\n",
    "        if np.sum(iteration) != 0:\n",
    "            V_track_new.append(iteration)\n",
    "\n",
    "    V_track_max = [np.max(abs(V_track[min(i+1,len(V_track)-1)]-V_track[i])) for i,x in enumerate(V_track_new)]"
   ]
  },
  {
   "cell_type": "code",
   "execution_count": null,
   "metadata": {},
   "outputs": [],
   "source": [
    "Plots.v_iters_plot(V_track_max, \"Value Iterations\")"
   ]
  },
  {
   "cell_type": "code",
   "execution_count": null,
   "metadata": {},
   "outputs": [],
   "source": [
    "avg_v_list"
   ]
  },
  {
   "cell_type": "code",
   "execution_count": null,
   "metadata": {},
   "outputs": [],
   "source": [
    "help(gym)"
   ]
  },
  {
   "cell_type": "code",
   "execution_count": null,
   "metadata": {},
   "outputs": [],
   "source": []
  }
 ],
 "metadata": {
  "kernelspec": {
   "display_name": "Python 3",
   "language": "python",
   "name": "python3"
  },
  "language_info": {
   "codemirror_mode": {
    "name": "ipython",
    "version": 3
   },
   "file_extension": ".py",
   "mimetype": "text/x-python",
   "name": "python",
   "nbconvert_exporter": "python",
   "pygments_lexer": "ipython3",
   "version": "3.7.7"
  }
 },
 "nbformat": 4,
 "nbformat_minor": 4
}
