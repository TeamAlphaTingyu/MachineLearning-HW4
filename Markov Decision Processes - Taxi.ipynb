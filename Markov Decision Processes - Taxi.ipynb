{
 "cells": [
  {
   "cell_type": "code",
   "execution_count": 1,
   "metadata": {},
   "outputs": [],
   "source": [
    "import gym\n",
    "from algorithms.rl import RL\n",
    "from examples.test_env import TestEnv\n",
    "from algorithms.planner import Planner\n",
    "from examples.plots import Plots\n",
    "from examples.blackjack import Blackjack\n",
    "import pandas as pd\n",
    "import seaborn as sns\n",
    "import numpy as np\n",
    "import os\n",
    "import pickle\n",
    "\n",
    "import math\n",
    "\n",
    "from examples.test_env import TestEnv\n",
    "import matplotlib.pyplot as plt\n",
    "from matplotlib.patches import Arrow, Rectangle\n",
    "import warnings\n",
    "from matplotlib.colors import LinearSegmentedColormap"
   ]
  },
  {
   "cell_type": "code",
   "execution_count": 2,
   "metadata": {},
   "outputs": [],
   "source": [
    "class Plotst:\n",
    "    @staticmethod\n",
    "    def grid_world_policy_plot(data, label):\n",
    "        if not math.modf(math.sqrt(len(data)))[0] == 0.0:\n",
    "            warnings.warn(\"Grid map expected.  Check data length\")\n",
    "        else:\n",
    "            data = np.around(np.array(data).reshape((5, 5)), 2)\n",
    "            df = pd.DataFrame(data=data)\n",
    "            my_colors = ((0.0, 0.0, 0.0, 1.0), (0.8, 0.0, 0.0, 1.0), (0.0, 0.8, 0.0, 1.0), (0.0, 0.0, 0.8, 1.0))\n",
    "            cmap = LinearSegmentedColormap.from_list('Custom', my_colors, len(my_colors))\n",
    "            ax = sns.heatmap(df, cmap=cmap, linewidths=1.0)\n",
    "            colorbar = ax.collections[0].colorbar\n",
    "            colorbar.set_ticks([.4, 1.1, 1.9, 2.6])\n",
    "            colorbar.set_ticklabels(['Left', 'Down', 'Right', 'Up'])\n",
    "            plt.title(label)\n",
    "            plt.show()\n",
    "\n",
    "    @staticmethod\n",
    "    def grid_values_heat_map(data, label):\n",
    "        if not math.modf(math.sqrt(len(data)))[0] == 0.0:\n",
    "            warnings.warn(\"Grid map expected.  Check data length\")\n",
    "        else:\n",
    "            data = np.around(np.array(data).reshape((8, 8)), 2)\n",
    "            df = pd.DataFrame(data=data)\n",
    "            sns.heatmap(df, annot=True).set_title(label)\n",
    "            plt.show()\n",
    "\n",
    "    @staticmethod\n",
    "    def v_iters_plot(data, label):\n",
    "        df = pd.DataFrame(data=data)\n",
    "        df.columns = [label]\n",
    "        sns.set_theme(style=\"whitegrid\")\n",
    "        title = label + \" v Iterations\"\n",
    "        sns.lineplot(x=df.index, y=label, data=df).set_title(title)\n",
    "        plt.show()"
   ]
  },
  {
   "cell_type": "code",
   "execution_count": 3,
   "metadata": {},
   "outputs": [],
   "source": [
    "taxi = gym.make('Taxi-v3', render_mode=None)"
   ]
  },
  {
   "cell_type": "code",
   "execution_count": null,
   "metadata": {},
   "outputs": [],
   "source": [
    "gamma_list = [0.4,0.5,0.6,0.7,0.8,0.9,0.99]\n",
    "action_list = []\n",
    "V_list = []\n",
    "V_change_list = []\n",
    "for sample_gamma in gamma_list:\n",
    "    V, V_track, pi = Planner(taxi.env.P).value_iteration(gamma=sample_gamma,n_iters=10000, theta=1e-3)\n",
    "    action = []\n",
    "    for i in range(len(V)):\n",
    "        action.append(pi(i))\n",
    "    V_track_new = []\n",
    "    for iteration in V_track:\n",
    "        if np.sum(iteration) != 0:\n",
    "            V_track_new.append(iteration)\n",
    "\n",
    "    V_track_max = [np.max(abs(V_track[min(i+1,len(V_track)-1)]-V_track[i])) for i,x in enumerate(V_track_new)]\n",
    "    action_list.append(action)\n",
    "    V_list.append(V)\n",
    "    V_change_list.append(V_track_max)"
   ]
  },
  {
   "cell_type": "code",
   "execution_count": null,
   "metadata": {},
   "outputs": [],
   "source": [
    "action_list1 = []\n",
    "V_list1 = []\n",
    "V_change_list1 = []\n",
    "for sample_gamma in gamma_list:\n",
    "    V, V_track, pi = Planner(taxi.env.P).value_iteration(gamma=sample_gamma,n_iters=10000, theta=1e-6)\n",
    "    action = []\n",
    "    for i in range(len(V)):\n",
    "        action.append(pi(i))\n",
    "    V_track_new = []\n",
    "    for iteration in V_track:\n",
    "        if np.sum(iteration) != 0:\n",
    "            V_track_new.append(iteration)\n",
    "\n",
    "    V_track_max = [np.max(abs(V_track[min(i+1,len(V_track)-1)]-V_track[i])) for i,x in enumerate(V_track_new)]\n",
    "    action_list1.append(action)\n",
    "    V_list1.append(V)\n",
    "    V_change_list1.append(V_track_max)"
   ]
  },
  {
   "cell_type": "code",
   "execution_count": null,
   "metadata": {},
   "outputs": [],
   "source": [
    "n_iteration_list = []\n",
    "for i in range(len(V_change_list)):\n",
    "    n_iteration_list.append(len(V_change_list[i]))\n",
    "\n",
    "n_iteration_list1 = []\n",
    "for i in range(len(V_change_list1)):\n",
    "    n_iteration_list1.append(len(V_change_list1[i]))\n",
    "    \n",
    "plt.figure(figsize=(10, 6)) \n",
    "plt.plot(gamma_list, n_iteration_list, label = \"theta = e-3\")\n",
    "plt.plot(gamma_list, n_iteration_list1, label = \"theta = e-6\")\n",
    "plt.legend(loc=\"upper left\")    \n",
    "plt.title('number of iterations until convergence with change in Gamma')\n",
    "plt.xlabel('Gamma')\n",
    "plt.ylabel('number of iterations')\n",
    "plt.show()"
   ]
  },
  {
   "cell_type": "code",
   "execution_count": null,
   "metadata": {},
   "outputs": [],
   "source": [
    "avg_v_list = []\n",
    "for i in range(len(V_list)):\n",
    "    avg_v_list.append(np.mean(V_list[i]))\n",
    "\n",
    "avg_v_list1 = []\n",
    "for i in range(len(V_list1)):\n",
    "    avg_v_list1.append(np.mean(V_list1[i]))\n",
    "    \n",
    "plt.figure(figsize=(10, 6)) \n",
    "plt.plot(gamma_list, avg_v_list, label = \"theta = e-3\")\n",
    "plt.plot(gamma_list, avg_v_list1, label = \"theta = e-6\")\n",
    "plt.legend(loc=\"upper left\")    \n",
    "plt.title('average value after convergence with change in Gamma')\n",
    "plt.xlabel('Gamma')\n",
    "plt.ylabel('average value after convergence')\n",
    "plt.show()"
   ]
  },
  {
   "cell_type": "code",
   "execution_count": null,
   "metadata": {},
   "outputs": [],
   "source": [
    "np.array(n_iteration_list1)/np.array(n_iteration_list)"
   ]
  },
  {
   "cell_type": "code",
   "execution_count": null,
   "metadata": {},
   "outputs": [],
   "source": [
    "gamma_list = [0.4,0.5,0.6,0.7,0.8,0.9,0.99]\n",
    "action_list1 = []\n",
    "V_list1 = []\n",
    "V_change_list1 = []\n",
    "for sample_gamma in gamma_list:\n",
    "    V, V_track, pi = Planner(taxi.env.P).policy_iteration(gamma=sample_gamma,n_iters=10000, theta=1e-3)\n",
    "    action = []\n",
    "    for i in range(len(V)):\n",
    "        action.append(pi(i))\n",
    "    V_track_new = []\n",
    "    for iteration in V_track:\n",
    "        if np.sum(iteration) != 0:\n",
    "            V_track_new.append(iteration)\n",
    "\n",
    "    V_track_max = [np.max(abs(V_track[min(i+1,len(V_track)-1)]-V_track[i])) for i,x in enumerate(V_track_new)]\n",
    "    action_list1.append(action)\n",
    "    V_list1.append(V)\n",
    "    V_change_list1.append(V_track_max)"
   ]
  },
  {
   "cell_type": "code",
   "execution_count": null,
   "metadata": {},
   "outputs": [],
   "source": [
    "n_iteration_list = []\n",
    "for i in range(len(V_change_list)):\n",
    "    n_iteration_list.append(len(V_change_list[i]))\n",
    "\n",
    "n_iteration_list1 = []\n",
    "for i in range(len(V_change_list1)):\n",
    "    n_iteration_list1.append(len(V_change_list1[i]))\n",
    "    \n",
    "plt.figure(figsize=(10, 6)) \n",
    "plt.plot(gamma_list, n_iteration_list, label = \"value iteration\")\n",
    "plt.plot(gamma_list, n_iteration_list1, label = \"policy iteration\")\n",
    "plt.legend(loc=\"upper left\")    \n",
    "plt.title('number of iterations until convergence with change in Gamma')\n",
    "plt.xlabel('Gamma')\n",
    "plt.ylabel('number of iterations')\n",
    "plt.show()"
   ]
  },
  {
   "cell_type": "code",
   "execution_count": null,
   "metadata": {},
   "outputs": [],
   "source": [
    "avg_v_list = []\n",
    "for i in range(len(V_list)):\n",
    "    avg_v_list.append(np.mean(V_list[i]))\n",
    "\n",
    "avg_v_list1 = []\n",
    "for i in range(len(V_list1)):\n",
    "    avg_v_list1.append(np.mean(V_list1[i]))\n",
    "    \n",
    "plt.figure(figsize=(10, 6)) \n",
    "plt.plot(gamma_list, avg_v_list, label = \"value iteration\")\n",
    "plt.plot(gamma_list, avg_v_list1, label = \"policy iteration\")\n",
    "plt.legend(loc=\"upper left\")    \n",
    "plt.title('average value after convergence with change in Gamma')\n",
    "plt.xlabel('Gamma')\n",
    "plt.ylabel('average value after convergence')\n",
    "plt.show()"
   ]
  },
  {
   "cell_type": "code",
   "execution_count": null,
   "metadata": {},
   "outputs": [],
   "source": [
    "gamma_list = [0.4,0.5,0.6,0.7,0.8,0.9,0.99]\n",
    "action_list1 = []\n",
    "V_list1 = []\n",
    "V_change_list1 = []\n",
    "for sample_gamma in gamma_list:\n",
    "\n",
    "    Q, Vq, piQ, Q_track, pi_track = RL(taxi.env).q_learning(gamma=sample_gamma,\n",
    "                   init_alpha=0.5,\n",
    "                   min_alpha=0.01,\n",
    "                   alpha_decay_ratio=0.5,\n",
    "                   init_epsilon=1.0,\n",
    "                   min_epsilon=0.1,\n",
    "                   epsilon_decay_ratio=0.9)\n",
    "    action = []\n",
    "    for i in range(len(Vq)):\n",
    "        action.append(piQ(i))\n",
    "    Q_track_new = []\n",
    "    for iteration in Q_track:\n",
    "        if np.sum(iteration) != 0:\n",
    "            Q_track_new.append(iteration)\n",
    "\n",
    "    V_track_max = [np.max(abs(Q_track_new[min(i+1,len(Q_track_new)-1)]-Q_track_new[i])) for i,x in enumerate(Q_track_new)]\n",
    "    action_list1.append(action)\n",
    "    V_list1.append(Vq)\n",
    "    V_change_list1.append(V_track_max)"
   ]
  },
  {
   "cell_type": "code",
   "execution_count": null,
   "metadata": {},
   "outputs": [],
   "source": [
    "avg_v_list1 = []\n",
    "for i in range(len(V_list1)):\n",
    "    avg_v_list1.append(np.mean(V_list1[i]))\n",
    "    \n",
    "plt.figure(figsize=(10, 6)) \n",
    "\n",
    "plt.plot(gamma_list, avg_v_list1)\n",
    "\n",
    "plt.title('average value after convergence with change in Gamma')\n",
    "plt.xlabel('Gamma')\n",
    "plt.ylabel('average value after convergence')\n",
    "plt.show()"
   ]
  },
  {
   "cell_type": "code",
   "execution_count": null,
   "metadata": {},
   "outputs": [],
   "source": [
    "alpha_list = [0.2,0.3,0.4,0.5,0.6,0.7,0.8]\n",
    "action_list1 = []\n",
    "V_list1 = []\n",
    "V_change_list1 = []\n",
    "for sample_alpha in alpha_list:\n",
    "\n",
    "    Q, Vq, piQ, Q_track, pi_track = RL(taxi.env).q_learning(gamma=0.99,\n",
    "                   init_alpha=sample_alpha,\n",
    "                   min_alpha=0.01,\n",
    "                   alpha_decay_ratio=0.5,\n",
    "                   init_epsilon=1.0,\n",
    "                   min_epsilon=0.1,\n",
    "                   epsilon_decay_ratio=0.9)\n",
    "    action = []\n",
    "    for i in range(len(Vq)):\n",
    "        action.append(piQ(i))\n",
    "    Q_track_new = []\n",
    "    for iteration in Q_track:\n",
    "        if np.sum(iteration) != 0:\n",
    "            Q_track_new.append(iteration)\n",
    "\n",
    "    V_track_max = [np.max(abs(Q_track_new[min(i+1,len(Q_track_new)-1)]-Q_track_new[i])) for i,x in enumerate(Q_track_new)]\n",
    "    action_list1.append(action)\n",
    "    V_list1.append(Vq)\n",
    "    V_change_list1.append(V_track_max)"
   ]
  },
  {
   "cell_type": "code",
   "execution_count": null,
   "metadata": {},
   "outputs": [],
   "source": [
    "avg_v_list1 = []\n",
    "for i in range(len(V_list1)):\n",
    "    avg_v_list1.append(np.mean(V_list1[i]))\n",
    "    \n",
    "plt.figure(figsize=(10, 6)) \n",
    "\n",
    "plt.plot(alpha_list, avg_v_list1, label = \"10000 episodes\")\n",
    "   \n",
    "plt.title('average value after convergence with change in Starting Alpha')\n",
    "plt.xlabel('Starting Alpha')\n",
    "plt.ylabel('average value after convergence')\n",
    "plt.show()"
   ]
  },
  {
   "cell_type": "code",
   "execution_count": null,
   "metadata": {},
   "outputs": [],
   "source": [
    "alpha_decay_list = [0.3,0.4,0.5,0.6,0.7,0.8,0.9]\n",
    "action_list0 = []\n",
    "V_list0 = []\n",
    "V_change_list0 = []\n",
    "for sample_alpha_decay in alpha_decay_list:\n",
    "\n",
    "    Q, Vq, piQ, Q_track, pi_track = RL(taxi.env).q_learning(gamma=0.99,\n",
    "                   init_alpha=0.2,\n",
    "                   min_alpha=0.01,\n",
    "                   alpha_decay_ratio=sample_alpha_decay,\n",
    "                   init_epsilon=1.0,\n",
    "                   min_epsilon=0.1,\n",
    "                   epsilon_decay_ratio=0.9,\n",
    "                   n_episodes=10000)\n",
    "    action = []\n",
    "    for i in range(len(Vq)):\n",
    "        action.append(piQ(i))\n",
    "    Q_track_new = []\n",
    "    for iteration in Q_track:\n",
    "        if np.sum(iteration) != 0:\n",
    "            Q_track_new.append(iteration)\n",
    "\n",
    "    V_track_max = [np.max(abs(Q_track_new[min(i+1,len(Q_track_new)-1)]-Q_track_new[i])) for i,x in enumerate(Q_track_new)]\n",
    "    action_list0.append(action)\n",
    "    V_list0.append(Vq)\n",
    "    V_change_list0.append(V_track_max)"
   ]
  },
  {
   "cell_type": "code",
   "execution_count": null,
   "metadata": {},
   "outputs": [],
   "source": [
    "alpha_decay_list = [0.3,0.4,0.5,0.6,0.7,0.8,0.9]\n",
    "action_list1 = []\n",
    "V_list1 = []\n",
    "V_change_list1 = []\n",
    "for sample_alpha_decay in alpha_decay_list:\n",
    "\n",
    "    Q, Vq, piQ, Q_track, pi_track = RL(taxi.env).q_learning(gamma=0.99,\n",
    "                   init_alpha=0.2,\n",
    "                   min_alpha=0.01,\n",
    "                   alpha_decay_ratio=sample_alpha_decay,\n",
    "                   init_epsilon=1.0,\n",
    "                   min_epsilon=0.1,\n",
    "                   epsilon_decay_ratio=0.9,\n",
    "                   n_episodes=30000)\n",
    "    action = []\n",
    "    for i in range(len(Vq)):\n",
    "        action.append(piQ(i))\n",
    "    Q_track_new = []\n",
    "    for iteration in Q_track:\n",
    "        if np.sum(iteration) != 0:\n",
    "            Q_track_new.append(iteration)\n",
    "\n",
    "    V_track_max = [np.max(abs(Q_track_new[min(i+1,len(Q_track_new)-1)]-Q_track_new[i])) for i,x in enumerate(Q_track_new)]\n",
    "    action_list1.append(action)\n",
    "    V_list1.append(Vq)\n",
    "    V_change_list1.append(V_track_max)"
   ]
  },
  {
   "cell_type": "code",
   "execution_count": null,
   "metadata": {},
   "outputs": [],
   "source": [
    "avg_v_list0 = []\n",
    "for i in range(len(V_list0)):\n",
    "    avg_v_list0.append(np.mean(V_list0[i]))\n",
    "\n",
    "avg_v_list2 = []\n",
    "for i in range(len(V_list1)):\n",
    "    avg_v_list2.append(np.mean(V_list1[i]))\n",
    "    \n",
    "plt.figure(figsize=(10, 6)) \n",
    "\n",
    "plt.plot(alpha_decay_list, avg_v_list0, label = \"10000 episodes\")\n",
    "plt.plot(alpha_decay_list, avg_v_list2, label = \"30000 episodes\")\n",
    "plt.legend(loc=\"upper left\")   \n",
    "plt.title('average value after convergence with change in Alpha Decay')\n",
    "plt.xlabel('Alpha Decay Factor')\n",
    "plt.ylabel('average value after convergence')\n",
    "plt.show()"
   ]
  },
  {
   "cell_type": "code",
   "execution_count": 4,
   "metadata": {},
   "outputs": [
    {
     "name": "stderr",
     "output_type": "stream",
     "text": [
      "                                                                                                                       \r"
     ]
    },
    {
     "name": "stdout",
     "output_type": "stream",
     "text": [
      "runtime = 12.62 seconds\n"
     ]
    },
    {
     "name": "stderr",
     "output_type": "stream",
     "text": [
      "                                                                                                                       \r"
     ]
    },
    {
     "name": "stdout",
     "output_type": "stream",
     "text": [
      "runtime = 12.95 seconds\n"
     ]
    },
    {
     "name": "stderr",
     "output_type": "stream",
     "text": [
      "                                                                                                                       \r"
     ]
    },
    {
     "name": "stdout",
     "output_type": "stream",
     "text": [
      "runtime = 14.04 seconds\n"
     ]
    },
    {
     "name": "stderr",
     "output_type": "stream",
     "text": [
      "                                                                                                                       \r"
     ]
    },
    {
     "name": "stdout",
     "output_type": "stream",
     "text": [
      "runtime = 14.76 seconds\n"
     ]
    },
    {
     "name": "stderr",
     "output_type": "stream",
     "text": [
      "                                                                                                                       \r"
     ]
    },
    {
     "name": "stdout",
     "output_type": "stream",
     "text": [
      "runtime = 17.57 seconds\n"
     ]
    },
    {
     "name": "stderr",
     "output_type": "stream",
     "text": [
      "                                                                                                                       \r"
     ]
    },
    {
     "name": "stdout",
     "output_type": "stream",
     "text": [
      "runtime = 17.16 seconds\n"
     ]
    },
    {
     "name": "stderr",
     "output_type": "stream",
     "text": [
      "                                                                                                                       \r"
     ]
    },
    {
     "name": "stdout",
     "output_type": "stream",
     "text": [
      "runtime = 18.06 seconds\n"
     ]
    }
   ],
   "source": [
    "epsilon_decay_list = [0.4,0.5,0.6,0.7,0.8,0.9,0.99]\n",
    "action_list0 = []\n",
    "V_list0 = []\n",
    "V_change_list0 = []\n",
    "for sample_epsilon_decay in epsilon_decay_list:\n",
    "\n",
    "    Q, Vq, piQ, Q_track, pi_track = RL(taxi.env).q_learning(gamma=0.99,\n",
    "                   init_alpha=0.2,\n",
    "                   min_alpha=0.01,\n",
    "                   alpha_decay_ratio=0.5,\n",
    "                   init_epsilon=1.0,\n",
    "                   min_epsilon=0.1,\n",
    "                   epsilon_decay_ratio=sample_epsilon_decay,\n",
    "                   n_episodes=10000)\n",
    "    action = []\n",
    "    for i in range(len(Vq)):\n",
    "        action.append(piQ(i))\n",
    "    Q_track_new = []\n",
    "    for iteration in Q_track:\n",
    "        if np.sum(iteration) != 0:\n",
    "            Q_track_new.append(iteration)\n",
    "\n",
    "    V_track_max = [np.max(abs(Q_track_new[min(i+1,len(Q_track_new)-1)]-Q_track_new[i])) for i,x in enumerate(Q_track_new)]\n",
    "    action_list0.append(action)\n",
    "    V_list0.append(Vq)\n",
    "    V_change_list0.append(V_track_max)"
   ]
  },
  {
   "cell_type": "code",
   "execution_count": 5,
   "metadata": {},
   "outputs": [
    {
     "name": "stderr",
     "output_type": "stream",
     "text": [
      "                                                                                                                       \r"
     ]
    },
    {
     "name": "stdout",
     "output_type": "stream",
     "text": [
      "runtime = 32.67 seconds\n"
     ]
    },
    {
     "name": "stderr",
     "output_type": "stream",
     "text": [
      "                                                                                                                       \r"
     ]
    },
    {
     "name": "stdout",
     "output_type": "stream",
     "text": [
      "runtime = 37.20 seconds\n"
     ]
    },
    {
     "name": "stderr",
     "output_type": "stream",
     "text": [
      "                                                                                                                       \r"
     ]
    },
    {
     "name": "stdout",
     "output_type": "stream",
     "text": [
      "runtime = 40.34 seconds\n"
     ]
    },
    {
     "name": "stderr",
     "output_type": "stream",
     "text": [
      "                                                                                                                       \r"
     ]
    },
    {
     "name": "stdout",
     "output_type": "stream",
     "text": [
      "runtime = 43.61 seconds\n"
     ]
    },
    {
     "name": "stderr",
     "output_type": "stream",
     "text": [
      "                                                                                                                       \r"
     ]
    },
    {
     "name": "stdout",
     "output_type": "stream",
     "text": [
      "runtime = 44.87 seconds\n"
     ]
    },
    {
     "name": "stderr",
     "output_type": "stream",
     "text": [
      "                                                                                                                       \r"
     ]
    },
    {
     "name": "stdout",
     "output_type": "stream",
     "text": [
      "runtime = 50.54 seconds\n"
     ]
    },
    {
     "name": "stderr",
     "output_type": "stream",
     "text": [
      "                                                                                                                       \r"
     ]
    },
    {
     "name": "stdout",
     "output_type": "stream",
     "text": [
      "runtime = 52.75 seconds\n"
     ]
    }
   ],
   "source": [
    "epsilon_decay_list = [0.4,0.5,0.6,0.7,0.8,0.9,0.99]\n",
    "action_list1 = []\n",
    "V_list1 = []\n",
    "V_change_list1 = []\n",
    "for sample_epsilon_decay in epsilon_decay_list:\n",
    "\n",
    "    Q, Vq, piQ, Q_track, pi_track = RL(taxi.env).q_learning(gamma=0.99,\n",
    "                   init_alpha=0.2,\n",
    "                   min_alpha=0.01,\n",
    "                   alpha_decay_ratio=0.5,\n",
    "                   init_epsilon=1.0,\n",
    "                   min_epsilon=0.1,\n",
    "                   epsilon_decay_ratio=sample_epsilon_decay,\n",
    "                   n_episodes=30000)\n",
    "    action = []\n",
    "    for i in range(len(Vq)):\n",
    "        action.append(piQ(i))\n",
    "    Q_track_new = []\n",
    "    for iteration in Q_track:\n",
    "        if np.sum(iteration) != 0:\n",
    "            Q_track_new.append(iteration)\n",
    "\n",
    "    V_track_max = [np.max(abs(Q_track_new[min(i+1,len(Q_track_new)-1)]-Q_track_new[i])) for i,x in enumerate(Q_track_new)]\n",
    "    action_list1.append(action)\n",
    "    V_list1.append(Vq)\n",
    "    V_change_list1.append(V_track_max)"
   ]
  },
  {
   "cell_type": "code",
   "execution_count": 6,
   "metadata": {},
   "outputs": [
    {
     "data": {
      "image/png": "[encoded data removed]",
      "text/plain": [
       "<Figure size 720x432 with 1 Axes>"
      ]
     },
     "metadata": {
      "needs_background": "light"
     },
     "output_type": "display_data"
    }
   ],
   "source": [
    "avg_v_list0 = []\n",
    "for i in range(len(V_list0)):\n",
    "    avg_v_list0.append(np.mean(V_list0[i]))\n",
    "\n",
    "avg_v_list2 = []\n",
    "for i in range(len(V_list1)):\n",
    "    avg_v_list2.append(np.mean(V_list1[i]))\n",
    "    \n",
    "plt.figure(figsize=(10, 6)) \n",
    "\n",
    "plt.plot(epsilon_decay_list, avg_v_list0, label = \"10000 episodes\")\n",
    "plt.plot(epsilon_decay_list, avg_v_list2, label = \"30000 episodes\")\n",
    "plt.legend(loc=\"upper left\")   \n",
    "plt.title('average value after convergence with change in Epsilon Decay')\n",
    "plt.xlabel('Epsilon Decay Factor')\n",
    "plt.ylabel('average value after convergence')\n",
    "plt.show()"
   ]
  },
  {
   "cell_type": "code",
   "execution_count": null,
   "metadata": {},
   "outputs": [],
   "source": []
  }
 ],
 "metadata": {
  "kernelspec": {
   "display_name": "Python 3",
   "language": "python",
   "name": "python3"
  },
  "language_info": {
   "codemirror_mode": {
    "name": "ipython",
    "version": 3
   },
   "file_extension": ".py",
   "mimetype": "text/x-python",
   "name": "python",
   "nbconvert_exporter": "python",
   "pygments_lexer": "ipython3",
   "version": "3.7.7"
  }
 },
 "nbformat": 4,
 "nbformat_minor": 4
}
